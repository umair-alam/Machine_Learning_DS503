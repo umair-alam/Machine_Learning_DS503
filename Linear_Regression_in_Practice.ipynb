{
 "cells": [
  {
   "cell_type": "code",
   "execution_count": 2,
   "metadata": {},
   "outputs": [
    {
     "name": "stdout",
     "output_type": "stream",
     "text": [
      "[ 0 10 20 30 40 50 60 70 80 90]\n"
     ]
    }
   ],
   "source": [
    "import numpy as np\n",
    "import matplotlib.pyplot as plt\n",
    "#Import inv function from numpy.linalg\n",
    "from numpy.linalg import inv\n",
    "\n",
    "#np.arange will give us the even spaced values in the given interval np.arange(start,stop,step)\n",
    "x = np.arange(0, 100, 10)\n",
    "print(x)"
   ]
  },
  {
   "cell_type": "code",
   "execution_count": 3,
   "metadata": {},
   "outputs": [
    {
     "name": "stdout",
     "output_type": "stream",
     "text": [
      "[   3  103  403  903 1603 2503 3603 4903 6403 8103]\n"
     ]
    }
   ],
   "source": [
    "#Now we define the output\n",
    "y = x**2 +3\n",
    "print(y)"
   ]
  },
  {
   "cell_type": "code",
   "execution_count": 11,
   "metadata": {},
   "outputs": [
    {
     "name": "stdout",
     "output_type": "stream",
     "text": [
      "[[ 1.  0.]\n",
      " [ 1. 10.]\n",
      " [ 1. 20.]\n",
      " [ 1. 30.]\n",
      " [ 1. 40.]\n",
      " [ 1. 50.]\n",
      " [ 1. 60.]\n",
      " [ 1. 70.]\n",
      " [ 1. 80.]\n",
      " [ 1. 90.]]\n"
     ]
    }
   ],
   "source": [
    "#As you have seen the output, now we insert the values of x0 and define the vector\n",
    "\n",
    "X = np.array([np.ones(len(x)), x]).T\n",
    "print(X)"
   ]
  },
  {
   "cell_type": "code",
   "execution_count": 5,
   "metadata": {},
   "outputs": [
    {
     "name": "stdout",
     "output_type": "stream",
     "text": [
      "[[   3]\n",
      " [ 103]\n",
      " [ 403]\n",
      " [ 903]\n",
      " [1603]\n",
      " [2503]\n",
      " [3603]\n",
      " [4903]\n",
      " [6403]\n",
      " [8103]]\n"
     ]
    }
   ],
   "source": [
    "Y = (y[:, np.newaxis]) #np.newaxis is used to increase the dimesnion of a given vector by one\n",
    "print(Y)"
   ]
  },
  {
   "cell_type": "code",
   "execution_count": 14,
   "metadata": {},
   "outputs": [
    {
     "name": "stdout",
     "output_type": "stream",
     "text": [
      "[[-1197.]\n",
      " [   90.]]\n"
     ]
    }
   ],
   "source": [
    "#Applying the normal equation\n",
    "theta = inv(X.T.dot(X)).dot(X.T).dot(Y)\n",
    "print(theta)"
   ]
  },
  {
   "cell_type": "code",
   "execution_count": 15,
   "metadata": {},
   "outputs": [
    {
     "name": "stdout",
     "output_type": "stream",
     "text": [
      "[-1197.  -297.   603.  1503.  2403.  3303.  4203.  5103.  6003.  6903.]\n"
     ]
    }
   ],
   "source": [
    "#prediction\n",
    "y_pred = theta[0]+theta[1]*x\n",
    "print(y_pred)"
   ]
  },
  {
   "cell_type": "code",
   "execution_count": 17,
   "metadata": {},
   "outputs": [
    {
     "data": {
      "text/plain": [
       "([], [])"
      ]
     },
     "execution_count": 17,
     "metadata": {},
     "output_type": "execute_result"
    },
    {
     "data": {
      "image/png": "[encoded data removed]",
      "text/plain": [
       "<Figure size 432x288 with 1 Axes>"
      ]
     },
     "metadata": {},
     "output_type": "display_data"
    }
   ],
   "source": [
    "#Plot the outputs\n",
    "plt.scatter(x, y, color='black')\n",
    "plt.plot(x, y_pred, color='blue', linewidth = 3)\n",
    "plt.xticks(())\n",
    "plt.yticks(())"
   ]
  }
 ],
 "metadata": {
  "kernelspec": {
   "display_name": "Python 3",
   "language": "python",
   "name": "python3"
  },
  "language_info": {
   "codemirror_mode": {
    "name": "ipython",
    "version": 3
   },
   "file_extension": ".py",
   "mimetype": "text/x-python",
   "name": "python",
   "nbconvert_exporter": "python",
   "pygments_lexer": "ipython3",
   "version": "3.8.5"
  }
 },
 "nbformat": 4,
 "nbformat_minor": 4
}
